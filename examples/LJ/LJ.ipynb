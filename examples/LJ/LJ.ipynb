{
 "cells": [
  {
   "cell_type": "code",
   "execution_count": 1,
   "metadata": {},
   "outputs": [],
   "source": [
    "import numpy as np\n",
    "from scipy import constants\n",
    "import matplotlib.pyplot as plt\n",
    "import csv\n",
    "import ast\n",
    "import sys"
   ]
  },
  {
   "cell_type": "code",
   "execution_count": 10,
   "metadata": {},
   "outputs": [],
   "source": [
    "boltzmann_const = constants.Boltzmann"
   ]
  },
  {
   "cell_type": "code",
   "execution_count": 126,
   "metadata": {},
   "outputs": [],
   "source": [
    "data = []\n",
    "with open('en_5_new.txt', newline='') as csvfile:\n",
    "    reader = csv.reader(csvfile, delimiter=',', quotechar='\"')\n",
    "    for row in reader:\n",
    "        for element in row:\n",
    "            data.append(ast.literal_eval(element.strip()))"
   ]
  },
  {
   "cell_type": "code",
   "execution_count": 127,
   "metadata": {},
   "outputs": [],
   "source": [
    "pos = []\n",
    "csv.field_size_limit(sys.maxsize)\n",
    "with open('chk_5_new.txt') as checkpoint_file:\n",
    "    reader = csv.reader(checkpoint_file, delimiter=',', quotechar='\"')\n",
    "    for row in reader:\n",
    "        for element in row:\n",
    "            pos.append(ast.literal_eval(element.strip()))"
   ]
  },
  {
   "cell_type": "code",
   "execution_count": 135,
   "metadata": {},
   "outputs": [
    {
     "data": {
      "text/plain": [
       "300"
      ]
     },
     "execution_count": 135,
     "metadata": {},
     "output_type": "execute_result"
    }
   ],
   "source": [
    "len(pos[-1])"
   ]
  },
  {
   "cell_type": "code",
   "execution_count": 136,
   "metadata": {},
   "outputs": [
    {
     "data": {
      "text/plain": [
       "918000"
      ]
     },
     "execution_count": 136,
     "metadata": {},
     "output_type": "execute_result"
    }
   ],
   "source": [
    "len(data)"
   ]
  },
  {
   "cell_type": "code",
   "execution_count": 140,
   "metadata": {},
   "outputs": [],
   "source": [
    "def compute_Z(energies, K, beta):\n",
    "    '''\n",
    "    Function to estimate partition function from energ list\n",
    "\n",
    "    @param energies : energy list\n",
    "    @param K : number of live points\n",
    "    @paramm beta : beta factor\n",
    "    @return Z : partition function estimate\n",
    "    '''\n",
    "    \n",
    "    # Iterate over energies\n",
    "    Z = 0\n",
    "    scale = K/(K+1)\n",
    "    for n in range(int(len(energies)/2)):\n",
    "\n",
    "        # Compute\n",
    "        Z += ((scale ** (n+1)) - (scale ** (n+2))) * np.exp(- beta * energies[2*n])\n",
    "\n",
    "    # Return\n",
    "    return Z\n",
    "\n",
    "def C_v(beta, N, energies, K):\n",
    "    '''\n",
    "    Function to compute constant volume heat capacity\n",
    "\n",
    "    @param beta : beta factor (k_b*T)\n",
    "    @param energies : energy list\n",
    "    @param K : number of live points\n",
    "    @param N : number of particles\n",
    "    '''\n",
    "\n",
    "    # Compute factors\n",
    "    term1 = 0\n",
    "    term2 = 0\n",
    "    Z = compute_Z(energies, K, beta)\n",
    "    scale = K/(K+1)\n",
    "\n",
    "    # Iterate over \n",
    "    for n in range(int(len(energies)/2)):\n",
    "\n",
    "        # Add to Cv\n",
    "        w_n = (scale ** (n+1)) - (scale ** (n+2))\n",
    "        term1 += (w_n * energies[2*n] * np.exp(-beta * energies[2*n]) * (beta**2) * boltzmann_const) * (w_n * energies[2*n] * np.exp(-beta * energies[2*n]))\n",
    "        term2 += (w_n * (energies[2*n] ** 2) * np.exp(-beta * energies[2*n]) * (beta**2) * boltzmann_const)\n",
    "\n",
    "    # Post summation\n",
    "    Cv = (3*N*boltzmann_const)/2 - (term1/(Z**2)) + (term2/Z)\n",
    "\n",
    "    # Return \n",
    "    return Cv\n",
    "\n",
    "def U(beta, N, energies, K):\n",
    "    '''\n",
    "    Function to compute constant volume heat capacity\n",
    "\n",
    "    @param beta : beta factor (k_b*T)\n",
    "    @param energies : energy list\n",
    "    @param K : number of live points\n",
    "    @param N : number of particles\n",
    "    '''\n",
    "\n",
    "    # Compute factors\n",
    "    term1 = 0\n",
    "    Z = compute_Z(energies, K, beta)\n",
    "    scale = K/(K+1)\n",
    "\n",
    "    # Iterate over \n",
    "    for n in range(len(energies)):\n",
    "\n",
    "        # Add to Cv\n",
    "        w_n = (scale ** (n+1)) - (scale ** (n+2))\n",
    "        term1 += (w_n * energies[n][1] * np.exp(-beta * energies[n][1]))\n",
    "\n",
    "    # Post summation\n",
    "    U = (3*N)/(2*beta) - (term1/Z)\n",
    "\n",
    "    # Return \n",
    "    return U"
   ]
  },
  {
   "cell_type": "code",
   "execution_count": 143,
   "metadata": {},
   "outputs": [
    {
     "data": {
      "text/plain": [
       "[<matplotlib.lines.Line2D at 0x7f0351595400>]"
      ]
     },
     "execution_count": 143,
     "metadata": {},
     "output_type": "execute_result"
    },
    {
     "data": {
      "image/png": "[encoded data removed]",
      "text/plain": [
       "<Figure size 640x480 with 1 Axes>"
      ]
     },
     "metadata": {},
     "output_type": "display_data"
    }
   ],
   "source": [
    "x = np.linspace(0.2, 5, 10)\n",
    "cv = [C_v(beta, 5, data, K)/(5*boltzmann_const) for beta in x]\n",
    "plt.plot(1/(x*10), cv)"
   ]
  }
 ],
 "metadata": {
  "kernelspec": {
   "display_name": "lab_env_2023",
   "language": "python",
   "name": "lab_env_2023"
  },
  "language_info": {
   "codemirror_mode": {
    "name": "ipython",
    "version": 3
   },
   "file_extension": ".py",
   "mimetype": "text/x-python",
   "name": "python",
   "nbconvert_exporter": "python",
   "pygments_lexer": "ipython3",
   "version": "3.9.12"
  },
  "orig_nbformat": 4
 },
 "nbformat": 4,
 "nbformat_minor": 2
}
